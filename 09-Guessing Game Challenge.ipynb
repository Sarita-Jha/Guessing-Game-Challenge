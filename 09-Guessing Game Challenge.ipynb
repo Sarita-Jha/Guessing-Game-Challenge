{
 "cells": [
  {
   "cell_type": "markdown",
   "metadata": {},
   "source": [
    "# Guessing Game Challenge\n",
    "\n",
    "Let's use `while` loops to create a guessing game.\n",
    "\n",
    "The Challenge:\n",
    "\n",
    "Write a program that picks a random integer from 1 to 100, and has players guess the number. The rules are:\n",
    "\n",
    "1. If a player's guess is less than 1 or greater than 100, say \"OUT OF BOUNDS\"\n",
    "2. On a player's first turn, if their guess is\n",
    " * within 10 of the number, return \"WARM!\"\n",
    " * further than 10 away from the number, return \"COLD!\"\n",
    "3. On all subsequent turns, if a guess is \n",
    " * closer to the number than the previous guess return \"WARMER!\"\n",
    " * farther from the number than the previous guess, return \"COLDER!\"\n",
    "4. When the player's guess equals the number, tell them they've guessed correctly *and* how many guesses it took!\n",
    "\n",
    "You can try this from scratch, or follow the steps outlined below. A separate Solution notebook has been provided. Good luck!\n"
   ]
  },
  {
   "cell_type": "markdown",
   "metadata": {},
   "source": [
    "#### First, pick a random integer from 1 to 100 using the random module and assign it to a variable\n",
    "\n",
    "Note: `random.randint(a,b)` returns a random integer in range `[a, b]`, including both end points."
   ]
  },
  {
   "cell_type": "code",
   "execution_count": null,
   "metadata": {},
   "outputs": [],
   "source": [
    "my_guess = random.randint(1,100)"
   ]
  },
  {
   "cell_type": "markdown",
   "metadata": {},
   "source": [
    "#### Next, print an introduction to the game and explain the rules"
   ]
  },
  {
   "cell_type": "code",
   "execution_count": null,
   "metadata": {},
   "outputs": [],
   "source": [
    "print(\"The rules are: \\n 1. If a player's guess is less than 1 or greater than 100, say \\\"OUT OF BOUNDS\\\" \\n2. On a player's first turn, if their guess is \\n \\t* within 10 of the number, return \\\"WARM!\\\"\\n\\t* further than 10 away from the number, return \\\"COLD!\\\"\\n3. On all subsequent turns, if a guess is \\n\\t* closer to the number than the previous guess return \\\"WARMER!\\\"\\n\\t* farther from the number than the previous guess, return \\\"COLDER!\\\"\\n4. When the player's guess equals the number, tell them they've guessed correctly *and* how many guesses it took!\")"
   ]
  },
  {
   "cell_type": "markdown",
   "metadata": {},
   "source": [
    "#### Create a list to store guesses\n",
    "\n",
    "Hint: zero is a good placeholder value. It's useful because it evaluates to \"False\""
   ]
  },
  {
   "cell_type": "code",
   "execution_count": null,
   "metadata": {},
   "outputs": [],
   "source": [
    "player_guesses = []"
   ]
  },
  {
   "cell_type": "markdown",
   "metadata": {},
   "source": [
    "#### Write a `while` loop that asks for a valid guess. Test it a few times to make sure it works."
   ]
  },
  {
   "cell_type": "code",
   "execution_count": null,
   "metadata": {},
   "outputs": [],
   "source": [
    "print(\"What is the first number you guess?\")\n",
    "player_guess = int(input())\n",
    "while player_guess != my_guess:\n",
    "    append.(player_guesses)\n",
    "    print(\"What is the new number you guess?\")\n",
    "    player_guess = int(input())\n",
    "number_of_guesses = len(player_guesses)\n",
    "print (\"You have guessed {} correctly. It took you {} attempts to make the right guess\".format(player_guess,len(player_guesses)))"
   ]
  },
  {
   "cell_type": "markdown",
   "metadata": {},
   "source": [
    "#### Write a `while` loop that compares the player's guess to our number. If the player guesses correctly, break from the loop. Otherwise, tell the player if they're warmer or colder, and continue asking for guesses.\n",
    "\n",
    "Some hints:\n",
    "* it may help to sketch out all possible combinations on paper first!\n",
    "* you can use the `abs()` function to find the positive difference between two numbers\n",
    "* if you append all new guesses to the list, then the previous guess is given as `guesses[-2]`"
   ]
  },
  {
   "cell_type": "code",
   "execution_count": 1,
   "metadata": {},
   "outputs": [
    {
     "name": "stdout",
     "output_type": "stream",
     "text": [
      "Let us have some fun and see if you can guess my number!!!\n",
      "\n",
      "The rules of the game are simple: \n",
      "1. If a player's guess is less than 1 or greater than 100, say \"OUT OF BOUNDS\" \n",
      "2. On a player's first turn, if their guess is \n",
      " \t* within 10 of the number, return \"WARM!\"\n",
      "\t* further than 10 away from the number, return \"COLD!\"\n",
      "3. On all subsequent turns, if a guess is \n",
      "\t* closer to the number than the previous guess return \"WARMER!\"\n",
      "\t* farther from the number than the previous guess, return \"COLDER!\"\n",
      "4. When the player's guess equals the number, tell them they've guessed correctly *and* how many guesses it took!\n",
      "\n",
      "\n",
      "\n",
      "I have selected a number in my mind between 1 and 100.\n",
      "Can you guess?\n",
      "What is the first number you guess?50\n",
      "FAR\n",
      "What is the new number you guess?\n",
      "25\n",
      "CLOSER\n",
      "What is the new number you guess?\n",
      "20\n",
      "FARTHER\n",
      "What is the new number you guess?\n",
      "30\n",
      "FARTHER\n",
      "What is the new number you guess?\n",
      "28\n",
      "CLOSER\n",
      "What is the new number you guess?\n",
      "27\n",
      "CLOSER\n",
      "What is the new number you guess?\n",
      "26\n",
      "CLOSER\n",
      "What is the new number you guess?\n",
      "24\n",
      "CLOSER\n",
      "What is the new number you guess?\n",
      "23\n",
      "BRAVO!!! You have guessed 23 correctly in 9 attempt\n"
     ]
    }
   ],
   "source": [
    "import random\n",
    "#Select random number from 1 to 100\n",
    "my_guess = random.randint(1,100)\n",
    "\n",
    "#Print the rules\n",
    "print(\"Let us have some fun and see if you can guess my number!!!\\n\\nThe rules of the game are simple: \\n1. If a player's guess is less than 1 or greater than 100, say \\\"OUT OF BOUNDS\\\" \\n2. On a player's first turn, if their guess is \\n \\t* within 10 of the number, return \\\"WARM!\\\"\\n\\t* further than 10 away from the number, return \\\"COLD!\\\"\\n3. On all subsequent turns, if a guess is \\n\\t* closer to the number than the previous guess return \\\"WARMER!\\\"\\n\\t* farther from the number than the previous guess, return \\\"COLDER!\\\"\\n4. When the player's guess equals the number, tell them they've guessed correctly *and* how many guesses it took!\")\n",
    "\n",
    "#Store Player's guesses\n",
    "player_guesses = []\n",
    "\n",
    "#Take the first guess from the player\n",
    "#print (\"What is the first number you guess?\")\n",
    "player_guess = int(input(\"\\n\\n\\nI have selected a number in my mind between 1 and 100.\\nCan you guess?\\nWhat is the first number you guess?\"))\n",
    "\n",
    "#Logic for first guess\n",
    "if player_guess < 1 or player_guess > 100:\n",
    "    print (\"OUT OF BOUNDS! Better luck next time!\")\n",
    "elif player_guess == my_guess:\n",
    "    print (f\"BRAVO!!! You have guessed {player_guess} correctly in only one attempt\")\n",
    "else:\n",
    "    if abs(my_guess - player_guess) <= 10:\n",
    "        print(\"CLOSE\")\n",
    "    else:\n",
    "        print (\"FAR\")\n",
    "    player_guesses.append(player_guess)\n",
    "    \n",
    "    #Logic for subsequent guesses\n",
    "    while (player_guess != my_guess):\n",
    "        \n",
    "        #Get new number\n",
    "        print(\"What is the new number you guess?\")\n",
    "        player_guess = int(input())\n",
    "        player_guesses.append(player_guess)\n",
    "        if player_guess == my_guess:\n",
    "            print (f\"BRAVO!!! You have guessed {player_guess} correctly in {len(player_guesses)} attempt\")\n",
    "        \n",
    "        #difference = abs(player_guesses[-2] - player_guess)\n",
    "        elif abs(player_guess - my_guess) < abs(player_guesses[-2] - my_guess):\n",
    "            print(\"CLOSER\")\n",
    "        else:\n",
    "            print (\"FARTHER\")\n",
    "            \n",
    "    #number_of_guesses = len(player_guesses)\n",
    "    #print (\"You have guessed {} correctly. It took you {} attempts to make the right guess\".format(player_guess,len(player_guesses)))"
   ]
  },
  {
   "cell_type": "markdown",
   "metadata": {},
   "source": [
    "That's it! You've just programmed your first game!\n",
    "\n",
    "In the next section we'll learn how to turn some of these repetitive actions into *functions* that can be called whenever we need them."
   ]
  },
  {
   "cell_type": "markdown",
   "metadata": {},
   "source": [
    "### Good Job!"
   ]
  }
 ],
 "metadata": {
  "kernelspec": {
   "display_name": "Python 3",
   "language": "python",
   "name": "python3"
  },
  "language_info": {
   "codemirror_mode": {
    "name": "ipython",
    "version": 3
   },
   "file_extension": ".py",
   "mimetype": "text/x-python",
   "name": "python",
   "nbconvert_exporter": "python",
   "pygments_lexer": "ipython3",
   "version": "3.7.3"
  }
 },
 "nbformat": 4,
 "nbformat_minor": 2
}
